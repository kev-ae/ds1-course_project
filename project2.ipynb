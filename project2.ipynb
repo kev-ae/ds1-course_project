{
 "cells": [
  {
   "cell_type": "code",
   "execution_count": 1,
   "id": "2dd2a22f",
   "metadata": {},
   "outputs": [],
   "source": [
    "import pandas as pd\n",
    "from sklearn import datasets\n",
    "from typing import List\n",
    "import math\n",
    "import numpy as np\n",
    "from sklearn import datasets, linear_model\n",
    "from sklearn.metrics import mean_squared_error, r2_score\n",
    "from sklearn.preprocessing import PolynomialFeatures\n",
    "import matplotlib.pyplot as plt"
   ]
  },
  {
   "cell_type": "code",
   "execution_count": 11,
   "id": "f4359ad5",
   "metadata": {},
   "outputs": [],
   "source": [
    "df = pd.read_csv('preproc.csv')\n",
    "train_df = df.iloc[:750,:]\n",
    "test_df = df.iloc[750:,:]\n",
    "\n",
    "train_x = train_df[[\"duration_ms\", \"danceability\", \"energy\",\"speechiness\",\"acousticness\",\"instrumentalness\",\"liveness\"]]\n",
    "train_y = train_df[[\"popularity\"]]\n",
    "test_x = test_df[[\"duration_ms\", \"danceability\", \"energy\",\"speechiness\",\"acousticness\",\"instrumentalness\",\"liveness\"]]\n",
    "test_y = test_df[[\"popularity\"]]"
   ]
  },
  {
   "cell_type": "code",
   "execution_count": 9,
   "id": "12a6c802",
   "metadata": {},
   "outputs": [],
   "source": [
    "ref_array = [\"duration_ms\", \"danceability\", \"energy\",\"speechiness\",\"acousticness\",\"instrumentalness\",\"liveness\"]"
   ]
  },
  {
   "cell_type": "code",
   "execution_count": 47,
   "id": "b3785e15",
   "metadata": {},
   "outputs": [],
   "source": [
    "# calculate correlation between attributes and popularity"
   ]
  },
  {
   "cell_type": "code",
   "execution_count": 3,
   "id": "e71042ee",
   "metadata": {},
   "outputs": [
    {
     "name": "stdout",
     "output_type": "stream",
     "text": [
      "correlation between duration_ms and popularity\n",
      "0.035922702745418485\n",
      "\n",
      "correlation between danceability and popularity\n",
      "0.009224575622939624\n",
      "\n",
      "correlation between energy and popularity\n",
      "-0.005163347464418312\n",
      "\n",
      "correlation between speechiness and popularity\n",
      "-0.06041408354937451\n",
      "\n",
      "correlation between acousticness and popularity\n",
      "-0.005132692110314079\n",
      "\n",
      "correlation between instrumentalness and popularity\n",
      "-0.14877249774447046\n",
      "\n",
      "correlation between liveness and popularity\n",
      "0.018983153901081795\n",
      "\n"
     ]
    }
   ],
   "source": [
    "for x in ref_array:\n",
    "    x_df = train_df[x].tolist()\n",
    "    r = np.corrcoef(x_df,train_df['popularity'].tolist())\n",
    "    print(f\"correlation between {x} and popularity\")\n",
    "    print(r[0,1])\n",
    "    print()"
   ]
  },
  {
   "cell_type": "code",
   "execution_count": 77,
   "id": "7d035665",
   "metadata": {},
   "outputs": [
    {
     "name": "stdout",
     "output_type": "stream",
     "text": [
      "0.03050150678610619\n"
     ]
    },
    {
     "ename": "NameError",
     "evalue": "name 'testing_data' is not defined",
     "output_type": "error",
     "traceback": [
      "\u001b[1;31m---------------------------------------------------------------------------\u001b[0m",
      "\u001b[1;31mNameError\u001b[0m                                 Traceback (most recent call last)",
      "Input \u001b[1;32mIn [77]\u001b[0m, in \u001b[0;36m<cell line: 7>\u001b[1;34m()\u001b[0m\n\u001b[0;32m      4\u001b[0m \u001b[38;5;28mprint\u001b[39m(linear_model\u001b[38;5;241m.\u001b[39mscore(train_x,train_y))\n\u001b[0;32m      6\u001b[0m \u001b[38;5;66;03m#testing the model and Displaying the output\u001b[39;00m\n\u001b[1;32m----> 7\u001b[0m linear_predict\u001b[38;5;241m=\u001b[39mlinear_model\u001b[38;5;241m.\u001b[39mpredict(\u001b[43mtesting_data\u001b[49m)\n\u001b[0;32m      8\u001b[0m l_output\u001b[38;5;241m=\u001b[39mpd\u001b[38;5;241m.\u001b[39mDataFrame({\u001b[38;5;124m'\u001b[39m\u001b[38;5;124mId\u001b[39m\u001b[38;5;124m'\u001b[39m:testing_data\u001b[38;5;241m.\u001b[39mindex,\u001b[38;5;124m'\u001b[39m\u001b[38;5;124mPredicted Streams\u001b[39m\u001b[38;5;124m'\u001b[39m:linear_predict,\u001b[38;5;124m'\u001b[39m\u001b[38;5;124mActual Stream\u001b[39m\u001b[38;5;124m'\u001b[39m:testing_data_stream})\n\u001b[0;32m      9\u001b[0m \u001b[38;5;28mprint\u001b[39m(l_output)\n",
      "\u001b[1;31mNameError\u001b[0m: name 'testing_data' is not defined"
     ]
    }
   ],
   "source": [
    "from sklearn.linear_model import LinearRegression\n",
    "linear_model=LinearRegression()\n",
    "linear_model.fit(train_x,train_y)\n",
    "print(linear_model.score(train_x,train_y))\n",
    "\n",
    "#testing the model and Displaying the output\n",
    "linear_predict=linear_model.predict(testing_data)\n",
    "l_output=pd.DataFrame({'Id':testing_data.index,'Predicted Streams':linear_predict,'Actual Stream':testing_data_stream})\n",
    "print(l_output)"
   ]
  },
  {
   "cell_type": "code",
   "execution_count": 6,
   "id": "66bd01ac",
   "metadata": {},
   "outputs": [
    {
     "name": "stdout",
     "output_type": "stream",
     "text": [
      "Intercept: \n",
      " [27.67378042]\n",
      "Mean squared error: 11301.384628270502\n",
      "Training R-Squared = 0.07711053581580429\n",
      "Testing  R-Squared = -23.988555821694682\n"
     ]
    }
   ],
   "source": [
    "poly = PolynomialFeatures(degree=4) \n",
    "trainx_poly= poly.fit_transform(train_x)\n",
    "\n",
    "regr_quad = linear_model.LinearRegression()\n",
    "regr_quad.fit(trainx_poly, train_y)\n",
    "\n",
    "y_train_pred = regr_quad.predict(trainx_poly)\n",
    "y_test_pred = regr_quad.predict(poly.fit_transform(test_x))\n",
    "\n",
    "print('Intercept: \\n', regr_quad.intercept_)\n",
    "#print('Coefficients: \\n', regr_quad.coef_)\n",
    "print(f'Mean squared error: {mean_squared_error(test_y, y_test_pred)}')\n",
    "print(f\"Training R-Squared = {r2_score(train_y, y_train_pred)}\")\n",
    "print(f\"Testing  R-Squared = {r2_score(test_y,  y_test_pred)}\")\n",
    "\n"
   ]
  },
  {
   "cell_type": "code",
   "execution_count": 30,
   "id": "2e3e510a",
   "metadata": {},
   "outputs": [
    {
     "name": "stdout",
     "output_type": "stream",
     "text": [
      "Intercept: \n",
      " [30.62642724]\n",
      "Mean squared error: 136235.20908741123\n",
      "Training R-Squared = 0.08024854248837365\n",
      "Testing  R-Squared = -300.23044557257936\n"
     ]
    }
   ],
   "source": [
    "poly = PolynomialFeatures(degree=5) \n",
    "trainx_poly= poly.fit_transform(train_x)\n",
    "\n",
    "regr_quad = linear_model.LinearRegression()\n",
    "regr_quad.fit(trainx_poly, train_y)\n",
    "\n",
    "y_train_pred = regr_quad.predict(trainx_poly)\n",
    "y_test_pred = regr_quad.predict(poly.fit_transform(test_x))\n",
    "\n",
    "print('Intercept: \\n', regr_quad.intercept_)\n",
    "#print('Coefficients: \\n', regr_quad.coef_)\n",
    "print(f'Mean squared error: {mean_squared_error(test_y, y_test_pred)}')\n",
    "print(f\"Training R-Squared = {r2_score(train_y, y_train_pred)}\")\n",
    "print(f\"Testing  R-Squared = {r2_score(test_y,  y_test_pred)}\")"
   ]
  },
  {
   "cell_type": "code",
   "execution_count": 79,
   "id": "f6427afc",
   "metadata": {},
   "outputs": [
    {
     "name": "stdout",
     "output_type": "stream",
     "text": [
      "Degree = 2\n",
      "Mean squared error: 460.3819547442681\n",
      "Training R-Squared = 0.07454591184083037\n",
      "Testing  R-Squared = -0.017953158292658422\n",
      "Degree = 3\n",
      "Mean squared error: 974.7973428556567\n",
      "Training R-Squared = 0.07607689854591004\n",
      "Testing  R-Squared = -1.1553799483874352\n",
      "Degree = 4\n",
      "Mean squared error: 11301.384628270502\n",
      "Training R-Squared = 0.07711053581580429\n",
      "Testing  R-Squared = -23.988555821694682\n",
      "Degree = 5\n",
      "Mean squared error: 136235.20908741123\n",
      "Training R-Squared = 0.08024854248837365\n",
      "Testing  R-Squared = -300.23044557257936\n",
      "Degree = 6\n",
      "Mean squared error: 2200827.7160052434\n",
      "Training R-Squared = 0.07975452015859552\n",
      "Testing  R-Squared = -4865.262678801158\n",
      "Degree = 7\n",
      "Mean squared error: 7313868.364123618\n",
      "Training R-Squared = 0.06416933648170653\n",
      "Testing  R-Squared = -16170.735933333932\n",
      "Degree = 8\n",
      "Mean squared error: 20044126.638534527\n",
      "Training R-Squared = 0.044161857327012055\n",
      "Testing  R-Squared = -44318.6823999068\n",
      "Degree = 9\n",
      "Mean squared error: 11113116.636818156\n",
      "Training R-Squared = 0.012525900270938473\n",
      "Testing  R-Squared = -24571.27539512847\n"
     ]
    }
   ],
   "source": [
    "x = 2\n",
    "while x < 10:\n",
    "    poly = PolynomialFeatures(degree=x) \n",
    "    trainx_poly= poly.fit_transform(train_x)\n",
    "\n",
    "    regr_quad = linear_model.LinearRegression()\n",
    "    regr_quad.fit(trainx_poly, train_y)\n",
    "\n",
    "    y_train_pred = regr_quad.predict(trainx_poly)\n",
    "    y_test_pred = regr_quad.predict(poly.fit_transform(test_x))\n",
    "\n",
    "    print(f'Degree = {x}')\n",
    "\n",
    "    mse = mean_squared_error(test_y, y_test_pred)\n",
    "    mse_array.append(mse)\n",
    "    print(f'Mean squared error: {mse}')\n",
    "\n",
    "    train = r2_score(train_y, y_train_pred)\n",
    "    train_array.append(train)\n",
    "    print(f\"Training R-Squared = {train}\")\n",
    "\n",
    "\n",
    "    test = r2_score(test_y,  y_test_pred)\n",
    "    test_array.append(test)\n",
    "    print(f\"Testing  R-Squared = {test}\")\n",
    "    \n",
    "    x+=1"
   ]
  },
  {
   "cell_type": "code",
   "execution_count": 78,
   "id": "94c3a02b",
   "metadata": {},
   "outputs": [],
   "source": [
    "mse_array = []\n",
    "train_array =[]\n",
    "test_array = []\n"
   ]
  },
  {
   "cell_type": "code",
   "execution_count": 65,
   "id": "268a3163",
   "metadata": {},
   "outputs": [
    {
     "data": {
      "text/plain": [
       "[460.3819547442681,\n",
       " 974.7973428556567,\n",
       " 11301.384628270502,\n",
       " 136235.20908741123,\n",
       " 2200827.7160052434,\n",
       " 7313868.364123618,\n",
       " 20044126.638534527,\n",
       " 11113116.636818156,\n",
       " 213810530.54615965,\n",
       " 2031968409.4746685,\n",
       " 17379597081.5026,\n",
       " 135469190484.0972,\n",
       " 981407599737.4592,\n",
       " 6749204261922.497,\n",
       " 44880644397356.26,\n",
       " 292359592029719.0]"
      ]
     },
     "execution_count": 65,
     "metadata": {},
     "output_type": "execute_result"
    }
   ],
   "source": [
    "mse_array\n"
   ]
  },
  {
   "cell_type": "code",
   "execution_count": 83,
   "id": "f367ce0b",
   "metadata": {},
   "outputs": [
    {
     "data": {
      "text/plain": [
       "[0.07454591184083037,\n",
       " 0.07607689854591004,\n",
       " 0.07711053581580429,\n",
       " 0.08024854248837365,\n",
       " 0.07975452015859552,\n",
       " 0.06416933648170653,\n",
       " 0.044161857327012055,\n",
       " 0.012525900270938473]"
      ]
     },
     "execution_count": 83,
     "metadata": {},
     "output_type": "execute_result"
    }
   ],
   "source": [
    "train_array\n"
   ]
  },
  {
   "cell_type": "code",
   "execution_count": 87,
   "id": "823416f7",
   "metadata": {},
   "outputs": [
    {
     "data": {
      "text/plain": [
       "[-0.017953158292658422,\n",
       " -1.1553799483874352,\n",
       " -23.988555821694682,\n",
       " -300.23044557257936,\n",
       " -4865.262678801158,\n",
       " -16170.735933333932,\n",
       " -44318.6823999068,\n",
       " -24571.27539512847]"
      ]
     },
     "execution_count": 87,
     "metadata": {},
     "output_type": "execute_result"
    }
   ],
   "source": [
    "test_array"
   ]
  },
  {
   "cell_type": "code",
   "execution_count": 81,
   "id": "aabf7226",
   "metadata": {},
   "outputs": [],
   "source": [
    "count_array = [2,3,4,5,6,7,8,9]"
   ]
  },
  {
   "cell_type": "code",
   "execution_count": 76,
   "id": "de829e72",
   "metadata": {},
   "outputs": [
    {
     "data": {
      "text/plain": [
       "[2, 3, 4, 5, 6, 7, 8, 9, 10]"
      ]
     },
     "execution_count": 76,
     "metadata": {},
     "output_type": "execute_result"
    }
   ],
   "source": [
    "count_array"
   ]
  },
  {
   "cell_type": "code",
   "execution_count": null,
   "id": "d46762a0",
   "metadata": {},
   "outputs": [],
   "source": []
  },
  {
   "cell_type": "code",
   "execution_count": 71,
   "id": "180240dc",
   "metadata": {},
   "outputs": [],
   "source": [
    "import matplotlib.pyplot as plt\n",
    "import numpy as np\n",
    "# if using a Jupyter notebook, include:\n",
    "%matplotlib inline"
   ]
  },
  {
   "cell_type": "code",
   "execution_count": 91,
   "id": "25017276",
   "metadata": {},
   "outputs": [
    {
     "data": {
      "text/plain": [
       "Text(0.5, 1.0, 'Degree Value vs R^2 Value of Training Set')"
      ]
     },
     "execution_count": 91,
     "metadata": {},
     "output_type": "execute_result"
    },
    {
     "data": {
      "image/png": "[encoded data removed]",
      "text/plain": [
       "<Figure size 432x288 with 1 Axes>"
      ]
     },
     "metadata": {
      "needs_background": "light"
     },
     "output_type": "display_data"
    }
   ],
   "source": [
    "plt.plot(count_array, train_array)\n",
    "plt.xlabel(\"Degree Value\")\n",
    "plt.ylabel(\"R^2 Value of Training Set\")\n",
    "plt.title(\"Degree Value vs R^2 Value of Training Set\")"
   ]
  },
  {
   "cell_type": "code",
   "execution_count": 92,
   "id": "8498adb1",
   "metadata": {},
   "outputs": [
    {
     "data": {
      "text/plain": [
       "Text(0.5, 1.0, 'Degree Value vs R^2 Value of Testing Set')"
      ]
     },
     "execution_count": 92,
     "metadata": {},
     "output_type": "execute_result"
    },
    {
     "data": {
      "image/png": "[encoded data removed]",
      "text/plain": [
       "<Figure size 432x288 with 1 Axes>"
      ]
     },
     "metadata": {
      "needs_background": "light"
     },
     "output_type": "display_data"
    }
   ],
   "source": [
    "plt.plot(count_array, test_array)\n",
    "\n",
    "plt.xlabel(\"Degree Value\")\n",
    "plt.ylabel(\"R^2 Value of Testing Set\")\n",
    "plt.title(\"Degree Value vs R^2 Value of Testing Set\")"
   ]
  },
  {
   "cell_type": "code",
   "execution_count": 93,
   "id": "74f4d714",
   "metadata": {},
   "outputs": [
    {
     "data": {
      "text/plain": [
       "Text(0.5, 1.0, 'Degree Value vs MSE')"
      ]
     },
     "execution_count": 93,
     "metadata": {},
     "output_type": "execute_result"
    },
    {
     "data": {
      "image/png": "[encoded data removed]",
      "text/plain": [
       "<Figure size 432x288 with 1 Axes>"
      ]
     },
     "metadata": {
      "needs_background": "light"
     },
     "output_type": "display_data"
    }
   ],
   "source": [
    "plt.plot(count_array, mse_array)\n",
    "plt.xlabel(\"Degree Value\")\n",
    "plt.ylabel(\"Mean Square Errors\")\n",
    "plt.title(\"Degree Value vs MSE\")"
   ]
  }
 ],
 "metadata": {
  "kernelspec": {
   "display_name": "Python 3 (ipykernel)",
   "language": "python",
   "name": "python3"
  },
  "language_info": {
   "codemirror_mode": {
    "name": "ipython",
    "version": 3
   },
   "file_extension": ".py",
   "mimetype": "text/x-python",
   "name": "python",
   "nbconvert_exporter": "python",
   "pygments_lexer": "ipython3",
   "version": "3.9.12"
  }
 },
 "nbformat": 4,
 "nbformat_minor": 5
}
